{
 "cells": [
  {
   "cell_type": "code",
   "execution_count": 1,
   "id": "c4700f29",
   "metadata": {},
   "outputs": [],
   "source": [
    "import cv2\n",
    "import mediapipe as mp"
   ]
  },
  {
   "cell_type": "code",
   "execution_count": 2,
   "id": "8c52aa91",
   "metadata": {},
   "outputs": [],
   "source": [
    "mp_face_det = mp.solutions.face_detection\n",
    "mp_draw = mp.solutions.drawing_utils"
   ]
  },
  {
   "cell_type": "code",
   "execution_count": 10,
   "id": "a3695131",
   "metadata": {},
   "outputs": [],
   "source": [
    "face_dect = mp_face_det.FaceDetection(min_detection_confidence=1,model_selection=0)\n",
    "cap = cv2.VideoCapture(0)\n",
    "while cap.isOpened():\n",
    "    r,frame = cap.read()\n",
    "    frame = cv2.flip(frame, 1)\n",
    "    \n",
    "    frame = cv2.cvtColor(frame,cv2.COLOR_BGR2RGB)\n",
    "    \n",
    "    result = face_dect.process(frame)\n",
    "    \n",
    "    frame = cv2.cvtColor(frame,cv2.COLOR_RGB2BGR)\n",
    "    if r == True:\n",
    "        \n",
    "        for cr in result.detections:\n",
    "            mp_draw.draw_detection(frame,cr)\n",
    "        \n",
    "        cv2.imshow(\"WebCam\", frame)\n",
    "        if cv2.waitKey(100) & 0xff == ord(\"q\"):\n",
    "            break\n",
    "    else:\n",
    "        break\n",
    "        \n",
    "cap.release()\n",
    "cv2.destroyAllWindows()        "
   ]
  }
 ],
 "metadata": {
  "kernelspec": {
   "display_name": "Python 3 (ipykernel)",
   "language": "python",
   "name": "python3"
  },
  "language_info": {
   "codemirror_mode": {
    "name": "ipython",
    "version": 3
   },
   "file_extension": ".py",
   "mimetype": "text/x-python",
   "name": "python",
   "nbconvert_exporter": "python",
   "pygments_lexer": "ipython3",
   "version": "3.11.5"
  }
 },
 "nbformat": 4,
 "nbformat_minor": 5
}
