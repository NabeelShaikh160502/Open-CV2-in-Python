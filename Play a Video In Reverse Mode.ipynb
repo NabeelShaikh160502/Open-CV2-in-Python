{
 "cells": [
  {
   "cell_type": "code",
   "execution_count": 1,
   "id": "bd1c88cd",
   "metadata": {},
   "outputs": [],
   "source": [
    "import cv2\n",
    "import numpy as np"
   ]
  },
  {
   "cell_type": "code",
   "execution_count": 5,
   "id": "bfe2b6fd",
   "metadata": {},
   "outputs": [],
   "source": [
    "cap = cv2.VideoCapture(\"mixkit-man-and-woman-jogging-together-on-the-street-40881-full-hd.mp4\")\n",
    "l = []\n",
    "c = 1\n",
    "while cap.isOpened():\n",
    "    r,f = cap.read()\n",
    "    if r == True:\n",
    "        file_name = r\"C:\\Users\\Hp\\Desktop\\Maxgen Internship\\Open CV2 in Python\\Img\\demo\"+str(c)+\".jpg\"\n",
    "        l.append(file_name)\n",
    "        cv2.imwrite(file_name,f)\n",
    "        c=c+1\n",
    "        cv2.imshow(\"Video\", f)\n",
    "        if cv2.waitKey(25) & 0xff == ord(\"q\"):\n",
    "            break\n",
    "    else:\n",
    "        break\n",
    "l.reverse()\n",
    "for i in l:\n",
    "    img_new = cv2.imread(i)\n",
    "    cv2.imshow(\"Video1\", img_new)\n",
    "    if cv2.waitKey(25) & 0xff == ord(\"q\"):\n",
    "        break\n",
    "\n",
    "cap.release()\n",
    "cv2.destroyAllWindows()"
   ]
  }
 ],
 "metadata": {
  "kernelspec": {
   "display_name": "Python 3 (ipykernel)",
   "language": "python",
   "name": "python3"
  },
  "language_info": {
   "codemirror_mode": {
    "name": "ipython",
    "version": 3
   },
   "file_extension": ".py",
   "mimetype": "text/x-python",
   "name": "python",
   "nbconvert_exporter": "python",
   "pygments_lexer": "ipython3",
   "version": "3.11.5"
  }
 },
 "nbformat": 4,
 "nbformat_minor": 5
}
