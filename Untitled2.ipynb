{
 "cells": [
  {
   "cell_type": "code",
   "execution_count": 1,
   "id": "71f27009",
   "metadata": {},
   "outputs": [],
   "source": [
    "import cv2"
   ]
  },
  {
   "cell_type": "code",
   "execution_count": 16,
   "id": "0592b4d5",
   "metadata": {},
   "outputs": [
    {
     "name": "stdout",
     "output_type": "stream",
     "text": [
      "(776, 524, 3)\n"
     ]
    }
   ],
   "source": [
    "img = cv2.imread(\"ef6bccea028afe29f20346dba4f7b84f.jpg\")  # bgr   (0-255,0-255,0-255)\n",
    "#print(img)\n",
    "print(img.shape)\n",
    "img = cv2.resize(img, (700, 600))\n",
    "cv2.imshow(\"wscube\",img)\n",
    "cv2.waitKey(0)\n",
    "cv2.destroyAllWindows()"
   ]
  },
  {
   "cell_type": "code",
   "execution_count": 14,
   "id": "09cdd796",
   "metadata": {},
   "outputs": [
    {
     "name": "stdout",
     "output_type": "stream",
     "text": [
      "(776, 524)\n"
     ]
    }
   ],
   "source": [
    "img = cv2.imread(\"ef6bccea028afe29f20346dba4f7b84f.jpg\",0)  # bgr   (0-255,0-255,0-255)\n",
    "#print(img)\n",
    "print(img.shape)\n",
    "img = cv2.resize(img, (700, 600))\n",
    "cv2.imshow(\"wscube\",img)\n",
    "cv2.waitKey(0)\n",
    "cv2.destroyAllWindows()"
   ]
  },
  {
   "cell_type": "code",
   "execution_count": 17,
   "id": "09c1acb3",
   "metadata": {},
   "outputs": [
    {
     "name": "stdout",
     "output_type": "stream",
     "text": [
      "(776, 524, 3)\n"
     ]
    }
   ],
   "source": [
    "img = cv2.imread(\"ef6bccea028afe29f20346dba4f7b84f.jpg\",1)  # bgr   (0-255,0-255,0-255)\n",
    "#print(img)\n",
    "print(img.shape)\n",
    "img = cv2.resize(img, (700, 600))\n",
    "cv2.imshow(\"wscube\",img)\n",
    "cv2.waitKey(0)\n",
    "cv2.destroyAllWindows()"
   ]
  },
  {
   "cell_type": "code",
   "execution_count": 15,
   "id": "51a30440",
   "metadata": {},
   "outputs": [
    {
     "name": "stdout",
     "output_type": "stream",
     "text": [
      "(776, 524, 3)\n"
     ]
    }
   ],
   "source": [
    "img = cv2.imread(\"ef6bccea028afe29f20346dba4f7b84f.jpg\",-1)  # bgr   (0-255,0-255,0-255)\n",
    "#print(img)\n",
    "print(img.shape)\n",
    "img = cv2.resize(img, (700, 600))\n",
    "cv2.imshow(\"wscube\",img)\n",
    "cv2.waitKey(0)\n",
    "cv2.destroyAllWindows()"
   ]
  }
 ],
 "metadata": {
  "kernelspec": {
   "display_name": "Python 3 (ipykernel)",
   "language": "python",
   "name": "python3"
  },
  "language_info": {
   "codemirror_mode": {
    "name": "ipython",
    "version": 3
   },
   "file_extension": ".py",
   "mimetype": "text/x-python",
   "name": "python",
   "nbconvert_exporter": "python",
   "pygments_lexer": "ipython3",
   "version": "3.11.5"
  }
 },
 "nbformat": 4,
 "nbformat_minor": 5
}
