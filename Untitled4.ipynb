{
 "cells": [
  {
   "cell_type": "code",
   "execution_count": 1,
   "id": "8ca1ef3a",
   "metadata": {},
   "outputs": [],
   "source": [
    "import cv2"
   ]
  },
  {
   "cell_type": "code",
   "execution_count": 26,
   "id": "19f2b8c8",
   "metadata": {},
   "outputs": [],
   "source": [
    "old_img = cv2.imread(\"images.jpeg\")\n",
    "old_img = cv2.resize(old_img,(500,500))\n",
    "\n",
    "new_img = cv2.line(img = old_img, pt1 = (160,90), pt2 = (330,90), color = (0,255,0),\n",
    "                  thickness = 4, lineType = 4)\n",
    "\n",
    "cv2.imshow(\"wscube\",new_img)\n",
    "cv2.waitKey(0)\n",
    "cv2.destroyAllWindows()"
   ]
  },
  {
   "cell_type": "code",
   "execution_count": 51,
   "id": "60dd1327",
   "metadata": {},
   "outputs": [],
   "source": [
    "old_img = cv2.imread(\"images.jpeg\")\n",
    "old_img = cv2.resize(old_img,(500,500))\n",
    "\n",
    "new_img = cv2.rectangle(img = old_img, pt1 = (120,20), pt2 = (370,250), color = (0,255,0),\n",
    "                  thickness = 4, lineType = 16)\n",
    "\n",
    "cv2.imshow(\"wscube\",new_img)\n",
    "cv2.waitKey(0)\n",
    "cv2.destroyAllWindows()"
   ]
  },
  {
   "cell_type": "code",
   "execution_count": 64,
   "id": "66cdc598",
   "metadata": {},
   "outputs": [],
   "source": [
    "old_img = cv2.imread(\"images.jpeg\")\n",
    "old_img = cv2.resize(old_img,(500,500))\n",
    "\n",
    "txt_img = cv2.putText(img = old_img,\n",
    "text = \"Shruti Haasan\",\n",
    "org = (120,20),\n",
    "fontFace = 2,\n",
    "fontScale = 1,\n",
    "color = (0,0,255),\n",
    "thickness = 1,\n",
    "lineType = 16,\n",
    "bottomLeftOrigin = False)\n",
    "\n",
    "new_img = cv2.rectangle(img = txt_img, pt1 = (120,20), pt2 = (370,250), color = (0,255,0),\n",
    "                  thickness = 4, lineType = 16)\n",
    "\n",
    "cv2.imshow(\"wscube\",new_img)\n",
    "cv2.waitKey(0)\n",
    "cv2.destroyAllWindows()"
   ]
  }
 ],
 "metadata": {
  "kernelspec": {
   "display_name": "Python 3 (ipykernel)",
   "language": "python",
   "name": "python3"
  },
  "language_info": {
   "codemirror_mode": {
    "name": "ipython",
    "version": 3
   },
   "file_extension": ".py",
   "mimetype": "text/x-python",
   "name": "python",
   "nbconvert_exporter": "python",
   "pygments_lexer": "ipython3",
   "version": "3.11.5"
  }
 },
 "nbformat": 4,
 "nbformat_minor": 5
}
