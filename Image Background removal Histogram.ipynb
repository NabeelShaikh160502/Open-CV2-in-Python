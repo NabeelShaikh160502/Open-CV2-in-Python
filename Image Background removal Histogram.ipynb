{
 "cells": [
  {
   "cell_type": "code",
   "execution_count": 1,
   "id": "c8478c2b",
   "metadata": {},
   "outputs": [],
   "source": [
    "import cv2"
   ]
  },
  {
   "cell_type": "code",
   "execution_count": 12,
   "id": "fe404094",
   "metadata": {},
   "outputs": [],
   "source": [
    "img = cv2.imread(\"Thor.jpg\")\n",
    "img = cv2.resize(img,(400,500))\n",
    "hsv = cv2.cvtColor(img,cv2.COLOR_BGR2HSV)\n",
    "\n",
    "img1 = cv2.imread(\"Thor1.jpg\")\n",
    "hsv2 = cv2.cvtColor(img1,cv2.COLOR_BGR2HSV)\n",
    "\n",
    "hist = cv2.calcHist([hsv2],[0,1],None,[180,256],[0,180,0,256])\n",
    "mask = cv2.calcBackProject([hsv],[0,1],hist,[0,180,0,256],1)\n",
    "\n",
    "#res = cv2.bitwise_or(img,img,mask =mask)\n",
    "\n",
    "ker = cv2.getStructuringElement(cv2.MORPH_ELLIPSE,(5,5)) \n",
    "mask = cv2.filter2D(mask,-1,ker)\n",
    "\n",
    "_,thr = cv2.threshold(mask,230,255,cv2.THRESH_BINARY)\n",
    "\n",
    "mask = cv2.merge((mask,mask,mask))\n",
    "\n",
    "res = cv2.bitwise_or(img,mask)\n",
    "\n",
    "cv2.imshow(\"Thor1\", res)\n",
    "cv2.imshow(\"Thor\", img)\n",
    "cv2.waitKey(0)\n",
    "cv2.destroyAllWindows()"
   ]
  }
 ],
 "metadata": {
  "kernelspec": {
   "display_name": "Python 3 (ipykernel)",
   "language": "python",
   "name": "python3"
  },
  "language_info": {
   "codemirror_mode": {
    "name": "ipython",
    "version": 3
   },
   "file_extension": ".py",
   "mimetype": "text/x-python",
   "name": "python",
   "nbconvert_exporter": "python",
   "pygments_lexer": "ipython3",
   "version": "3.11.5"
  }
 },
 "nbformat": 4,
 "nbformat_minor": 5
}
