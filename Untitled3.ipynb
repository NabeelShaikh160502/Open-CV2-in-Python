{
 "cells": [
  {
   "cell_type": "code",
   "execution_count": 1,
   "id": "4d8ed5e9",
   "metadata": {},
   "outputs": [],
   "source": [
    "import cv2"
   ]
  },
  {
   "cell_type": "code",
   "execution_count": 9,
   "id": "fa9625fd",
   "metadata": {},
   "outputs": [],
   "source": [
    "img_get = cv2.imread(r\"C:\\Users\\Hp\\Desktop\\Maxgen Internship\\Open CV2 in Python\\0_PoE26AmTTazJEK0m.jpg\")\n",
    "img_get = cv2.resize(img_get,(700,600))\n",
    "\n",
    "txt = cv2.putText(img = img_get,\n",
    "text = \"Tony Stark\",\n",
    "org = (50,70),\n",
    "fontFace = cv2.FONT_HERSHEY_DUPLEX,\n",
    "fontScale = 3,\n",
    "color = (0,0,255),\n",
    "thickness = 3,\n",
    "lineType = cv2.LINE_8,\n",
    "bottomLeftOrigin = False)\n",
    "\n",
    "cv2.imshow(\"wscube\",img_get)\n",
    "cv2.waitKey(0)\n",
    "cv2.destroyAllWindows()"
   ]
  },
  {
   "cell_type": "code",
   "execution_count": 14,
   "id": "4757010a",
   "metadata": {},
   "outputs": [],
   "source": [
    "img_get = cv2.imread(r\"C:\\Users\\Hp\\Desktop\\Maxgen Internship\\Open CV2 in Python\\0_PoE26AmTTazJEK0m.jpg\")\n",
    "img_get = cv2.resize(img_get,(700,600))\n",
    "\n",
    "txt = cv2.putText(img = img_get,\n",
    "text = \"Tony Stark\",\n",
    "org = (50,70),\n",
    "fontFace = cv2.FONT_HERSHEY_DUPLEX,\n",
    "fontScale = 3,\n",
    "color = (255,0,0),\n",
    "thickness = 3,\n",
    "lineType = cv2.LINE_8,\n",
    "bottomLeftOrigin = False)\n",
    "\n",
    "txt = cv2.putText(img = txt,\n",
    "text = \"Tony Stark\",\n",
    "org = (50,80),\n",
    "fontFace = cv2.FONT_HERSHEY_DUPLEX,\n",
    "fontScale = 3,\n",
    "color = (0,0,255),\n",
    "thickness = 3,\n",
    "lineType = cv2.LINE_8,\n",
    "bottomLeftOrigin = True)\n",
    "\n",
    "cv2.imshow(\"wscube\",txt)\n",
    "cv2.waitKey(0)\n",
    "cv2.destroyAllWindows()"
   ]
  }
 ],
 "metadata": {
  "kernelspec": {
   "display_name": "Python 3 (ipykernel)",
   "language": "python",
   "name": "python3"
  },
  "language_info": {
   "codemirror_mode": {
    "name": "ipython",
    "version": 3
   },
   "file_extension": ".py",
   "mimetype": "text/x-python",
   "name": "python",
   "nbconvert_exporter": "python",
   "pygments_lexer": "ipython3",
   "version": "3.11.5"
  }
 },
 "nbformat": 4,
 "nbformat_minor": 5
}
