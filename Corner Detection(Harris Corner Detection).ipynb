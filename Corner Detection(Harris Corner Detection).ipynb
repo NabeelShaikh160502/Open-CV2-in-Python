{
 "cells": [
  {
   "cell_type": "code",
   "execution_count": 2,
   "id": "6a475060",
   "metadata": {},
   "outputs": [],
   "source": [
    "import cv2\n",
    "import numpy as np"
   ]
  },
  {
   "cell_type": "code",
   "execution_count": 8,
   "id": "9889547b",
   "metadata": {},
   "outputs": [],
   "source": [
    "img = cv2.imread(\"ABC.png\")\n",
    "gr = cv2.cvtColor(img,cv2.COLOR_BGR2GRAY)\n",
    "\n",
    "gr = np.float32(gr)\n",
    "\n",
    "res = cv2.cornerHarris(gr,4,3,0.04)\n",
    "\n",
    "res = cv2.dilate(res,None)\n",
    "img[res>0.01*res.max()] = [0,0,255]\n",
    "\n",
    "cv2.imshow(\"Shapes\", img)\n",
    "cv2.waitKey(0)\n",
    "cv2.destroyAllWindows()"
   ]
  },
  {
   "cell_type": "code",
   "execution_count": 13,
   "id": "69b19cc9",
   "metadata": {},
   "outputs": [],
   "source": [
    "img = cv2.imread(\"Man.jpeg\")\n",
    "gr = cv2.cvtColor(img,cv2.COLOR_BGR2GRAY)\n",
    "\n",
    "gr = np.float32(gr)\n",
    "\n",
    "res = cv2.cornerHarris(gr,3,3,0.04)\n",
    "\n",
    "res = cv2.dilate(res, None)\n",
    "img[res>0.01*res.max()] = [0,0,255]\n",
    "\n",
    "cv2.imshow(\"Man\", img)\n",
    "cv2.waitKey(0)\n",
    "cv2.destroyAllWindows()"
   ]
  }
 ],
 "metadata": {
  "kernelspec": {
   "display_name": "Python 3 (ipykernel)",
   "language": "python",
   "name": "python3"
  },
  "language_info": {
   "codemirror_mode": {
    "name": "ipython",
    "version": 3
   },
   "file_extension": ".py",
   "mimetype": "text/x-python",
   "name": "python",
   "nbconvert_exporter": "python",
   "pygments_lexer": "ipython3",
   "version": "3.11.5"
  }
 },
 "nbformat": 4,
 "nbformat_minor": 5
}
