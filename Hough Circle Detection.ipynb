{
 "cells": [
  {
   "cell_type": "code",
   "execution_count": 1,
   "id": "875fa727",
   "metadata": {},
   "outputs": [],
   "source": [
    "import cv2\n",
    "import numpy as np"
   ]
  },
  {
   "cell_type": "code",
   "execution_count": 6,
   "id": "30e6ef40",
   "metadata": {},
   "outputs": [
    {
     "name": "stdout",
     "output_type": "stream",
     "text": [
      "[[[382.5 472.5 148. ]\n",
      "  [141.5 369.5 139.9]\n",
      "  [288.5 190.5 134.2]\n",
      "  [528.5 262.5 138. ]]]\n"
     ]
    }
   ],
   "source": [
    "img = cv2.imread(\"Ball.jpg\") \n",
    "gr = cv2.cvtColor(img,cv2.COLOR_BGR2GRAY) \n",
    "gr = cv2.medianBlur(gr,7)\n",
    "\n",
    "c = cv2.HoughCircles(gr,cv2.HOUGH_GRADIENT,1,20,param1=90, param2=40, minRadius=0, maxRadius=0)\n",
    "\n",
    "print(c)\n",
    "\n",
    "data = np.uint16(np.around(c))\n",
    "\n",
    "for (x,y,r) in data[0,:]:\n",
    "    cv2.circle(img,(x,y),r,(0,0,255),4)\n",
    "    \n",
    "cv2.imshow(\"Ball\", img) \n",
    "cv2.waitKey(0) \n",
    "cv2.destroyAllWindows()"
   ]
  }
 ],
 "metadata": {
  "kernelspec": {
   "display_name": "Python 3 (ipykernel)",
   "language": "python",
   "name": "python3"
  },
  "language_info": {
   "codemirror_mode": {
    "name": "ipython",
    "version": 3
   },
   "file_extension": ".py",
   "mimetype": "text/x-python",
   "name": "python",
   "nbconvert_exporter": "python",
   "pygments_lexer": "ipython3",
   "version": "3.11.5"
  }
 },
 "nbformat": 4,
 "nbformat_minor": 5
}
