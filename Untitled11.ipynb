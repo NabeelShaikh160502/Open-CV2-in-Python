{
 "cells": [
  {
   "cell_type": "code",
   "execution_count": 2,
   "id": "0cdcf50e",
   "metadata": {},
   "outputs": [],
   "source": [
    "import cv2\n",
    "import numpy as np"
   ]
  },
  {
   "cell_type": "code",
   "execution_count": 9,
   "id": "5b83f725",
   "metadata": {},
   "outputs": [],
   "source": [
    "org_img = cv2.imread(\"2161766356_cf08edde55_b.jpg\")\n",
    "res_img = cv2.resize(org_img,(300,300))\n",
    "\n",
    "g = cv2.GaussianBlur(res_img, (5,5),0)\n",
    "m = cv2.medianBlur(res_img,5)\n",
    "b = cv2.bilateralFilter(res_img,10,100,100)\n",
    "\n",
    "h = np.hstack((res_img,g,m,b))\n",
    "cv2.imshow(\"Nana Patekar\",h)\n",
    "cv2.waitKey(0)\n",
    "cv2.destroyAllWindows()"
   ]
  }
 ],
 "metadata": {
  "kernelspec": {
   "display_name": "Python 3 (ipykernel)",
   "language": "python",
   "name": "python3"
  },
  "language_info": {
   "codemirror_mode": {
    "name": "ipython",
    "version": 3
   },
   "file_extension": ".py",
   "mimetype": "text/x-python",
   "name": "python",
   "nbconvert_exporter": "python",
   "pygments_lexer": "ipython3",
   "version": "3.11.5"
  }
 },
 "nbformat": 4,
 "nbformat_minor": 5
}
