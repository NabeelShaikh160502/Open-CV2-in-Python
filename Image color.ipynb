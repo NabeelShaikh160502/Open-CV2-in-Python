{
 "cells": [
  {
   "cell_type": "code",
   "execution_count": 1,
   "id": "e5e328a8",
   "metadata": {},
   "outputs": [],
   "source": [
    "import cv2"
   ]
  },
  {
   "cell_type": "code",
   "execution_count": 4,
   "id": "77ddce4f",
   "metadata": {},
   "outputs": [],
   "source": [
    "org = cv2.imread(\"images.jpeg\")\n",
    "org = cv2.resize(org,(500,500))\n",
    "\n",
    "#new = cv2.cvtColor(org,cv2.COLOR_BGR2GRAY)\n",
    "#new = cv2.cvtColor(org,cv2.COLOR_BGR2HSV)\n",
    "#new = cv2.cvtColor(org,cv2.COLOR_BGR2LUV)\n",
    "new = cv2.cvtColor(org,cv2.COLOR_BGR2YUV)\n",
    "\n",
    "cv2.imshow(\"org\",org)\n",
    "cv2.imshow(\"new\",new)\n",
    "cv2.waitKey(0)\n",
    "cv2.destroyAllWindows()"
   ]
  }
 ],
 "metadata": {
  "kernelspec": {
   "display_name": "Python 3 (ipykernel)",
   "language": "python",
   "name": "python3"
  },
  "language_info": {
   "codemirror_mode": {
    "name": "ipython",
    "version": 3
   },
   "file_extension": ".py",
   "mimetype": "text/x-python",
   "name": "python",
   "nbconvert_exporter": "python",
   "pygments_lexer": "ipython3",
   "version": "3.11.5"
  }
 },
 "nbformat": 4,
 "nbformat_minor": 5
}
