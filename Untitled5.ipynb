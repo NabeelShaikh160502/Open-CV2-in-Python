{
 "cells": [
  {
   "cell_type": "code",
   "execution_count": 1,
   "id": "535a12d9",
   "metadata": {},
   "outputs": [],
   "source": [
    "import cv2"
   ]
  },
  {
   "cell_type": "code",
   "execution_count": 23,
   "id": "fd14b6ee",
   "metadata": {},
   "outputs": [],
   "source": [
    "old_img = cv2.imread(\"images.jpeg\")\n",
    "old_img = cv2.resize(old_img,(500,500))\n",
    "\n",
    "new_img = cv2.circle(img = old_img, center = (250,150), radius = 100, color = (0,255,0), thickness = 3, lineType = 16)\n",
    "\n",
    "cv2.imshow(\"wscube\",old_img)\n",
    "cv2.waitKey(0)\n",
    "cv2.destroyAllWindows()"
   ]
  },
  {
   "cell_type": "code",
   "execution_count": 96,
   "id": "5015667a",
   "metadata": {},
   "outputs": [],
   "source": [
    "old_img = cv2.imread(\"images.jpeg\")\n",
    "old_img = cv2.resize(old_img,(500,500))\n",
    "\n",
    "txt_img = cv2.putText(img = old_img,\n",
    "text = \"Shruti Haasan\",\n",
    "org = (320,190),\n",
    "fontFace = 2,\n",
    "fontScale = 1,\n",
    "color = (0,255,0),\n",
    "thickness = 3,\n",
    "lineType = 16,\n",
    "bottomLeftOrigin = False)\n",
    "\n",
    "new_img = cv2.ellipse(img = txt_img, center = (250,150), axes = (90,120), angle = 30, startAngle = 0,\n",
    "                      endAngle = 340, color = (0,255,0), thickness = 4, lineType = 16)\n",
    "\n",
    "cv2.imshow(\"wscube\",new_img)\n",
    "cv2.waitKey(0)\n",
    "cv2.destroyAllWindows()"
   ]
  }
 ],
 "metadata": {
  "kernelspec": {
   "display_name": "Python 3 (ipykernel)",
   "language": "python",
   "name": "python3"
  },
  "language_info": {
   "codemirror_mode": {
    "name": "ipython",
    "version": 3
   },
   "file_extension": ".py",
   "mimetype": "text/x-python",
   "name": "python",
   "nbconvert_exporter": "python",
   "pygments_lexer": "ipython3",
   "version": "3.11.5"
  }
 },
 "nbformat": 4,
 "nbformat_minor": 5
}
