{
 "cells": [
  {
   "cell_type": "code",
   "execution_count": 1,
   "id": "1779601e",
   "metadata": {},
   "outputs": [],
   "source": [
    "import cv2\n",
    "import numpy as np"
   ]
  },
  {
   "cell_type": "code",
   "execution_count": 5,
   "id": "942a8901",
   "metadata": {},
   "outputs": [],
   "source": [
    "cap = cv2.VideoCapture(\"mixkit-man-and-woman-jogging-together-on-the-street-40881-full-hd.mp4\")\n",
    "while True:\n",
    "    r,f = cap.read()\n",
    "    if r == True:\n",
    "        gry = cv2.cvtColor(f,cv2.COLOR_BGR2GRAY)\n",
    "        \n",
    "        hm = cv2.CascadeClassifier(r\"C:\\Users\\Hp\\anaconda3\\Lib\\site-packages\\cv2\\data\\haarcascade_fullbody.xml\")\n",
    "        h = hm.detectMultiScale(gry,1.1,4)\n",
    "        \n",
    "        for x,y,w,h in h:\n",
    "            cv2.rectangle(f,(x,y),(x+w,y+w),(0,0,255),3)\n",
    "            \n",
    "        \n",
    "        cv2.imshow(\"Video\", f)\n",
    "        if cv2.waitKey(25) & 0xff == ord(\"q\"):\n",
    "            break\n",
    "    else:\n",
    "        break\n",
    "\n",
    "cap.release()\n",
    "cv2.destroyAllWindows()"
   ]
  }
 ],
 "metadata": {
  "kernelspec": {
   "display_name": "Python 3 (ipykernel)",
   "language": "python",
   "name": "python3"
  },
  "language_info": {
   "codemirror_mode": {
    "name": "ipython",
    "version": 3
   },
   "file_extension": ".py",
   "mimetype": "text/x-python",
   "name": "python",
   "nbconvert_exporter": "python",
   "pygments_lexer": "ipython3",
   "version": "3.11.5"
  }
 },
 "nbformat": 4,
 "nbformat_minor": 5
}
