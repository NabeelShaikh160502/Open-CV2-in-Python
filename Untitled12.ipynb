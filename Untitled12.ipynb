{
 "cells": [
  {
   "cell_type": "code",
   "execution_count": 2,
   "id": "6c7a51be",
   "metadata": {},
   "outputs": [],
   "source": [
    "import cv2\n",
    "import numpy as np"
   ]
  },
  {
   "cell_type": "code",
   "execution_count": 6,
   "id": "4300cae0",
   "metadata": {},
   "outputs": [],
   "source": [
    "img = cv2.imread(\"2161766356_cf08edde55_b.jpg\")\n",
    "re_img = cv2.resize(img,(300,300))\n",
    "\n",
    "h = np.hstack((re_img,re_img))\n",
    "v = np.vstack((h,h))\n",
    "\n",
    "cv2.imwrite(\"new_img1.png\",v)\n",
    "#cv2.imshow(\"Nana Patekar\",v)\n",
    "cv2.waitKey(0)\n",
    "cv2.destroyAllWindows()"
   ]
  }
 ],
 "metadata": {
  "kernelspec": {
   "display_name": "Python 3 (ipykernel)",
   "language": "python",
   "name": "python3"
  },
  "language_info": {
   "codemirror_mode": {
    "name": "ipython",
    "version": 3
   },
   "file_extension": ".py",
   "mimetype": "text/x-python",
   "name": "python",
   "nbconvert_exporter": "python",
   "pygments_lexer": "ipython3",
   "version": "3.11.5"
  }
 },
 "nbformat": 4,
 "nbformat_minor": 5
}
