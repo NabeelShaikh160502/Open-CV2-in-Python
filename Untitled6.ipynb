{
 "cells": [
  {
   "cell_type": "code",
   "execution_count": 1,
   "id": "6458a9b6",
   "metadata": {},
   "outputs": [],
   "source": [
    "import cv2\n",
    "import numpy as np"
   ]
  },
  {
   "cell_type": "code",
   "execution_count": 39,
   "id": "72a6049c",
   "metadata": {},
   "outputs": [],
   "source": [
    "old_img = cv2.imread(\"a25cf4520897c0cf7b915e03af34af40.jpg\")\n",
    "old_img = cv2.resize(old_img,(600,600))\n",
    "\n",
    "new_img = cv2.polylines(img = old_img, pts = [np.array([[100,100],[150,50],[300,100],[300,400],[100,400]])], \n",
    "                        isClosed = True, color = (0,255,0), thickness = 4, lineType = 16)\n",
    "\n",
    "cv2.imshow(\"wscube\",new_img)\n",
    "cv2.waitKey(0)\n",
    "cv2.destroyAllWindows()"
   ]
  }
 ],
 "metadata": {
  "kernelspec": {
   "display_name": "Python 3 (ipykernel)",
   "language": "python",
   "name": "python3"
  },
  "language_info": {
   "codemirror_mode": {
    "name": "ipython",
    "version": 3
   },
   "file_extension": ".py",
   "mimetype": "text/x-python",
   "name": "python",
   "nbconvert_exporter": "python",
   "pygments_lexer": "ipython3",
   "version": "3.11.5"
  }
 },
 "nbformat": 4,
 "nbformat_minor": 5
}
