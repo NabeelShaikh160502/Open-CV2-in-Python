{
 "cells": [
  {
   "cell_type": "code",
   "execution_count": 1,
   "id": "531aa08f",
   "metadata": {},
   "outputs": [],
   "source": [
    "import cv2"
   ]
  },
  {
   "cell_type": "code",
   "execution_count": 14,
   "id": "de1a37d5",
   "metadata": {},
   "outputs": [
    {
     "name": "stdout",
     "output_type": "stream",
     "text": [
      "(500, 700, 3)\n",
      "(500, 700)\n"
     ]
    }
   ],
   "source": [
    "img = cv2.imread(\"2161766356_cf08edde55_b.jpg\")\n",
    "img = cv2.resize(img,(700,500))\n",
    "print(img.shape)\n",
    "\n",
    "new_img = cv2.Canny(img,150,150, apertureSize = 5, L2gradient = True)\n",
    "print(new_img.shape)\n",
    "\n",
    "cv2.imshow(\"Nana Patekar\",new_img)\n",
    "cv2.imshow(\"Nana Patekar 1\",img)\n",
    "cv2.waitKey(0)\n",
    "cv2.destroyAllWindows()"
   ]
  }
 ],
 "metadata": {
  "kernelspec": {
   "display_name": "Python 3 (ipykernel)",
   "language": "python",
   "name": "python3"
  },
  "language_info": {
   "codemirror_mode": {
    "name": "ipython",
    "version": 3
   },
   "file_extension": ".py",
   "mimetype": "text/x-python",
   "name": "python",
   "nbconvert_exporter": "python",
   "pygments_lexer": "ipython3",
   "version": "3.11.5"
  }
 },
 "nbformat": 4,
 "nbformat_minor": 5
}
