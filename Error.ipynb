{
 "cells": [
  {
   "cell_type": "code",
   "execution_count": 1,
   "id": "cd114639",
   "metadata": {},
   "outputs": [],
   "source": [
    "import cv2"
   ]
  },
  {
   "cell_type": "code",
   "execution_count": 12,
   "id": "63d30a5c",
   "metadata": {
    "scrolled": true
   },
   "outputs": [
    {
     "ename": "ValueError",
     "evalue": "could not broadcast input array from shape (100,100,3) into shape (100,37,3)",
     "output_type": "error",
     "traceback": [
      "\u001b[1;31m---------------------------------------------------------------------------\u001b[0m",
      "\u001b[1;31mValueError\u001b[0m                                Traceback (most recent call last)",
      "Cell \u001b[1;32mIn[12], line 7\u001b[0m\n\u001b[0;32m      4\u001b[0m crop \u001b[38;5;241m=\u001b[39m img[\u001b[38;5;241m20\u001b[39m:\u001b[38;5;241m120\u001b[39m,\u001b[38;5;241m170\u001b[39m:\u001b[38;5;241m270\u001b[39m]\n\u001b[0;32m      6\u001b[0m img[\u001b[38;5;241m20\u001b[39m:\u001b[38;5;241m120\u001b[39m,\u001b[38;5;241m270\u001b[39m:\u001b[38;5;241m370\u001b[39m] \u001b[38;5;241m=\u001b[39m crop \u001b[38;5;66;03m# right\u001b[39;00m\n\u001b[1;32m----> 7\u001b[0m img[\u001b[38;5;241m20\u001b[39m:\u001b[38;5;241m120\u001b[39m,\u001b[38;5;241m370\u001b[39m:\u001b[38;5;241m500\u001b[39m] \u001b[38;5;241m=\u001b[39m crop \u001b[38;5;66;03m# right\u001b[39;00m\n\u001b[0;32m      9\u001b[0m \u001b[38;5;66;03m#img[20:237,120:380] = crop # Left\u001b[39;00m\n\u001b[0;32m     10\u001b[0m \u001b[38;5;66;03m#img[20:237,370:380] = crop # Left\u001b[39;00m\n\u001b[0;32m     11\u001b[0m \n\u001b[0;32m     12\u001b[0m \u001b[38;5;66;03m#cv2.imwrite(\"Demo.png\",img)\u001b[39;00m\n\u001b[0;32m     13\u001b[0m \u001b[38;5;66;03m#cv2.imshow(\"wscube\", img)\u001b[39;00m\n\u001b[0;32m     14\u001b[0m cv2\u001b[38;5;241m.\u001b[39mwaitKey(\u001b[38;5;241m0\u001b[39m) \n",
      "\u001b[1;31mValueError\u001b[0m: could not broadcast input array from shape (100,100,3) into shape (100,37,3)"
     ]
    }
   ],
   "source": [
    "img = cv2.imread(\"Demo.png\") \n",
    "#img = cv2.resize(img, (700,500))\n",
    "\n",
    "crop = img[20:120,170:270]\n",
    "\n",
    "img[20:120,270:370] = crop # right\n",
    "img[20:120,370:500] = crop # right\n",
    "\n",
    "#img[20:237,120:380] = crop # Left\n",
    "#img[20:237,370:380] = crop # Left\n",
    "\n",
    "#cv2.imwrite(\"Demo.png\",img)\n",
    "#cv2.imshow(\"wscube\", img)\n",
    "cv2.waitKey(0) \n",
    "cv2.destroyAllWindows()"
   ]
  },
  {
   "cell_type": "code",
   "execution_count": 5,
   "id": "a922c647",
   "metadata": {},
   "outputs": [],
   "source": [
    "# img[y1:y2,x1:x2] crop\n",
    "\n",
    "img = cv2.imread(\"Demo.png\")\n",
    "\n",
    "crop = img[20:120,170:270]\n",
    "\n",
    "cv2.imshow(\"wscube\", crop) \n",
    "cv2.waitKey() \n",
    "cv2.destroyAllWindows()"
   ]
  }
 ],
 "metadata": {
  "kernelspec": {
   "display_name": "Python 3 (ipykernel)",
   "language": "python",
   "name": "python3"
  },
  "language_info": {
   "codemirror_mode": {
    "name": "ipython",
    "version": 3
   },
   "file_extension": ".py",
   "mimetype": "text/x-python",
   "name": "python",
   "nbconvert_exporter": "python",
   "pygments_lexer": "ipython3",
   "version": "3.11.5"
  }
 },
 "nbformat": 4,
 "nbformat_minor": 5
}
