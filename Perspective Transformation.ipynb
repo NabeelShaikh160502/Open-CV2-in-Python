{
 "cells": [
  {
   "cell_type": "code",
   "execution_count": 1,
   "id": "73b890b9",
   "metadata": {},
   "outputs": [],
   "source": [
    "import cv2\n",
    "import numpy as np"
   ]
  },
  {
   "cell_type": "code",
   "execution_count": 2,
   "id": "a6aa7c27",
   "metadata": {},
   "outputs": [],
   "source": [
    "#img = cv2.imread(\"Pic.jpg\")\n",
    "\n",
    "#cv2.circle(img,(62,95),4,(0,0,255), -1)\n",
    "#cv2.circle(img,(243,95),4,(0,0,255), -1)\n",
    "#cv2.circle(img,(25,363),4,(0,0,255), -1)\n",
    "#cv2.circle(img,(307,348),4,(0,0,255), -1)\n",
    "\n",
    "#print(img.shape)\n",
    "\n",
    "#cv2.imshow(\"wscube\",img) \n",
    "#cv2.waitKey(0) \n",
    "#cv2.destroyAllWindows()"
   ]
  },
  {
   "cell_type": "code",
   "execution_count": 3,
   "id": "e43ed6eb",
   "metadata": {},
   "outputs": [],
   "source": [
    "##src1 = np.float32([[62,95],[243,95],[25,363],[307,348]])\n",
    "#src1"
   ]
  },
  {
   "cell_type": "code",
   "execution_count": 4,
   "id": "7002b338",
   "metadata": {},
   "outputs": [],
   "source": [
    "img = cv2.imread(\"Pic.jpg\")\n",
    "w, h = (309,410)\n",
    "\n",
    "src1 = np.float32([[62,95],[243,95],[25,363],[307,348]])\n",
    "dst1 = np.float32([[0,0],[w,0],[0,h],[w,h]])\n",
    "m = cv2.getPerspectiveTransform(src1, dst1)\n",
    "new_img = cv2.warpPerspective(img,m,(w,h))\n",
    "\n",
    "cv2.imshow(\"wsc\",new_img)\n",
    "cv2.imshow(\"wscube\",img) \n",
    "cv2.waitKey(0) \n",
    "cv2.destroyAllWindows()"
   ]
  },
  {
   "cell_type": "code",
   "execution_count": null,
   "id": "9c126918",
   "metadata": {},
   "outputs": [],
   "source": [
    "535,50\n",
    "950,50\n",
    "498,681\n",
    "973,700"
   ]
  }
 ],
 "metadata": {
  "kernelspec": {
   "display_name": "Python 3 (ipykernel)",
   "language": "python",
   "name": "python3"
  },
  "language_info": {
   "codemirror_mode": {
    "name": "ipython",
    "version": 3
   },
   "file_extension": ".py",
   "mimetype": "text/x-python",
   "name": "python",
   "nbconvert_exporter": "python",
   "pygments_lexer": "ipython3",
   "version": "3.11.5"
  }
 },
 "nbformat": 4,
 "nbformat_minor": 5
}
