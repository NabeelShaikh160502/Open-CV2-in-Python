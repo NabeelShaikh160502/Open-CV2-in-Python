{
 "cells": [
  {
   "cell_type": "code",
   "execution_count": 1,
   "id": "b70fbc1a",
   "metadata": {},
   "outputs": [],
   "source": [
    "import cv2\n",
    "import numpy as np"
   ]
  },
  {
   "cell_type": "code",
   "execution_count": 9,
   "id": "4310c1b5",
   "metadata": {},
   "outputs": [],
   "source": [
    "img = cv2.imread(\"bZF6W.png\")\n",
    "img = cv2.resize(img,(500,500))\n",
    "\n",
    "k = np.ones((40,40),np.int8)\n",
    "\n",
    "bt = cv2.morphologyEx(img,cv2.MORPH_BLACKHAT, k, iterations = 1) \n",
    "#tp = cv2.morphologyEx(img,cv2.MORPH_TOPHAT, k, iterations = 1) \n",
    "#gr = cv2.morphologyEx(img,cv2.MORPH_GRADIENT, k, iterations = 1) \n",
    "#cl = cv2.morphologyEx(img,cv2.MORPH_CLOSE, k, iterations = 1) \n",
    "#op = cv2.morphologyEx(img,cv2.MORPH_OPEN, k, iterations = 1)\n",
    "\n",
    "cv2.imshow(\"ws\", img) \n",
    "cv2.imshow(\"ws1\",bt) \n",
    "cv2.waitKey(0) \n",
    "cv2.destroyAllWindows()"
   ]
  }
 ],
 "metadata": {
  "kernelspec": {
   "display_name": "Python 3 (ipykernel)",
   "language": "python",
   "name": "python3"
  },
  "language_info": {
   "codemirror_mode": {
    "name": "ipython",
    "version": 3
   },
   "file_extension": ".py",
   "mimetype": "text/x-python",
   "name": "python",
   "nbconvert_exporter": "python",
   "pygments_lexer": "ipython3",
   "version": "3.11.5"
  }
 },
 "nbformat": 4,
 "nbformat_minor": 5
}
