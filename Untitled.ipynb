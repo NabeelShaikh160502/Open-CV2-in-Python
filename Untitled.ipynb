{
 "cells": [
  {
   "cell_type": "code",
   "execution_count": 1,
   "id": "fc274131",
   "metadata": {},
   "outputs": [],
   "source": [
    "import cv2"
   ]
  },
  {
   "cell_type": "code",
   "execution_count": 2,
   "id": "b01122ae",
   "metadata": {},
   "outputs": [],
   "source": [
    "#img = cv2.imread(\"images.jpeg\")    # image read\n",
    "\n",
    "#cv2.imshow(\"Wscube Tech\", img)  # image show\n",
    "\n",
    "#cv2.waitKey(0)\n",
    "\n",
    "#cv2.destroyAllWindows()  # all windows close\n",
    "\n",
    "#cv2.destroyWindow()  # only one window close"
   ]
  },
  {
   "cell_type": "code",
   "execution_count": 3,
   "id": "58a9e928",
   "metadata": {},
   "outputs": [],
   "source": [
    "img = cv2.imread(\"images.jpeg\")    # image read\n",
    "\n",
    "cv2.imshow(\"Wscube Tech\", img)  # image show\n",
    "\n",
    "#cv2.imshow(\"Wscube Tech 1\", img) \n",
    "\n",
    "cv2.waitKey(0)\n",
    "\n",
    "cv2.destroyAllWindows()  # all windows close\n",
    "\n",
    "#cv2.destroyWindow()  # only one window close"
   ]
  },
  {
   "cell_type": "code",
   "execution_count": 4,
   "id": "1a8cd3ec",
   "metadata": {},
   "outputs": [],
   "source": [
    "#img = cv2.imread(\"images.jpeg\")    # image read\n",
    "\n",
    "#cv2.imshow(\"Wscube Tech\", img)\n",
    "\n",
    "# Wait for a key press\n",
    "#key = cv2.waitKey(0) & 0xFF \n",
    "\n",
    "#if (65 <= key <= 90) or (97 <= key <= 122):  \n",
    "#    print(\"Alphabet key pressed. Closing the image window...\")\n",
    "#    cv2.destroyAllWindows() \n",
    "#else:\n",
    "#    print(\"Non-alphabet key pressed. Window will still close.\")\n",
    "#    cv2.destroyAllWindows()\n"
   ]
  },
  {
   "cell_type": "code",
   "execution_count": null,
   "id": "477d0fe9",
   "metadata": {},
   "outputs": [],
   "source": []
  }
 ],
 "metadata": {
  "kernelspec": {
   "display_name": "Python 3 (ipykernel)",
   "language": "python",
   "name": "python3"
  },
  "language_info": {
   "codemirror_mode": {
    "name": "ipython",
    "version": 3
   },
   "file_extension": ".py",
   "mimetype": "text/x-python",
   "name": "python",
   "nbconvert_exporter": "python",
   "pygments_lexer": "ipython3",
   "version": "3.11.5"
  }
 },
 "nbformat": 4,
 "nbformat_minor": 5
}
