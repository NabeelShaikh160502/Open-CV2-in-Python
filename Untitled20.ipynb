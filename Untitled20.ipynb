{
 "cells": [
  {
   "cell_type": "code",
   "execution_count": 1,
   "id": "3652735f",
   "metadata": {},
   "outputs": [],
   "source": [
    "import cv2\n",
    "import numpy as np"
   ]
  },
  {
   "cell_type": "code",
   "execution_count": 7,
   "id": "5c8b46bc",
   "metadata": {},
   "outputs": [],
   "source": [
    "img = cv2.imread(\"a25cf4520897c0cf7b915e03af34af40.jpg\")\n",
    "img = cv2.resize(img,(500,500))\n",
    "#print(img.shape)\n",
    "\n",
    "new_img = np.ones((500,500,3),np.uint8)*255\n",
    "new_img\n",
    "\n",
    "cv2.imshow(\"wscube\", new_img) \n",
    "cv2.waitKey(0) \n",
    "cv2.destroyAllWindows()"
   ]
  },
  {
   "cell_type": "code",
   "execution_count": 8,
   "id": "3035dc68",
   "metadata": {},
   "outputs": [],
   "source": [
    "img = cv2.imread(\"a25cf4520897c0cf7b915e03af34af40.jpg\")\n",
    "img = cv2.resize(img,(500,500))\n",
    "#print(img.shape)\n",
    "\n",
    "new_img1 = np.zeros((500,500,3),np.uint8)*255\n",
    "\n",
    "cv2.imshow(\"wscube\", new_img1) \n",
    "cv2.waitKey(0) \n",
    "cv2.destroyAllWindows()"
   ]
  },
  {
   "cell_type": "code",
   "execution_count": 5,
   "id": "5489e734",
   "metadata": {},
   "outputs": [
    {
     "name": "stdout",
     "output_type": "stream",
     "text": [
      "[[[ 29  38  65]\n",
      "  [ 29  38  65]\n",
      "  [ 28  37  64]\n",
      "  ...\n",
      "  [ 29  46  79]\n",
      "  [ 29  46  79]\n",
      "  [ 28  45  78]]\n",
      "\n",
      " [[ 28  37  64]\n",
      "  [ 28  37  64]\n",
      "  [ 28  38  64]\n",
      "  ...\n",
      "  [ 27  44  77]\n",
      "  [ 27  44  77]\n",
      "  [ 26  43  77]]\n",
      "\n",
      " [[ 32  41  68]\n",
      "  [ 32  40  68]\n",
      "  [ 31  41  67]\n",
      "  ...\n",
      "  [ 28  45  78]\n",
      "  [ 27  44  77]\n",
      "  [ 26  43  76]]\n",
      "\n",
      " ...\n",
      "\n",
      " [[ 17  24  41]\n",
      "  [ 17  24  42]\n",
      "  [ 17  25  41]\n",
      "  ...\n",
      "  [117 133 160]\n",
      "  [118 134 161]\n",
      "  [122 137 165]]\n",
      "\n",
      " [[ 17  24  41]\n",
      "  [ 17  24  41]\n",
      "  [ 18  25  40]\n",
      "  ...\n",
      "  [132 147 173]\n",
      "  [132 147 173]\n",
      "  [131 145 172]]\n",
      "\n",
      " [[ 14  23  37]\n",
      "  [ 15  24  38]\n",
      "  [ 16  25  38]\n",
      "  ...\n",
      "  [137 149 177]\n",
      "  [140 152 180]\n",
      "  [139 153 181]]]\n"
     ]
    }
   ],
   "source": [
    "print(img)"
   ]
  }
 ],
 "metadata": {
  "kernelspec": {
   "display_name": "Python 3 (ipykernel)",
   "language": "python",
   "name": "python3"
  },
  "language_info": {
   "codemirror_mode": {
    "name": "ipython",
    "version": 3
   },
   "file_extension": ".py",
   "mimetype": "text/x-python",
   "name": "python",
   "nbconvert_exporter": "python",
   "pygments_lexer": "ipython3",
   "version": "3.11.5"
  }
 },
 "nbformat": 4,
 "nbformat_minor": 5
}
