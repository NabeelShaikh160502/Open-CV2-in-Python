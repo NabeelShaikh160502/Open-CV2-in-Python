{
 "cells": [
  {
   "cell_type": "code",
   "execution_count": 1,
   "id": "3fc96d80",
   "metadata": {},
   "outputs": [],
   "source": [
    "import cv2\n",
    "import numpy as np"
   ]
  },
  {
   "cell_type": "code",
   "execution_count": 2,
   "id": "2f47434f",
   "metadata": {},
   "outputs": [],
   "source": [
    "def wscube(x):\n",
    "    pass"
   ]
  },
  {
   "cell_type": "code",
   "execution_count": 3,
   "id": "99ea143d",
   "metadata": {},
   "outputs": [],
   "source": [
    "img = np.zeros((500, 500, 3), np. uint8)*255 \n",
    "cv2.namedWindow(\"colour\")\n",
    "\n",
    "\n",
    "cv2.createTrackbar(\"R\",\"colour\", 0, 255, wscube) \n",
    "cv2.createTrackbar(\"G\", \"colour\", 0, 255, wscube) \n",
    "cv2.createTrackbar(\"B\", \"colour\", 0, 255, wscube)\n",
    "\n",
    "while True:\n",
    "    cv2.imshow(\"colour\", img)\n",
    "    if cv2.waitKey(1) & 0xff == ord(\"p\"):\n",
    "        break\n",
    "    r = cv2.getTrackbarPos(\"R\",\"colour\") \n",
    "    g = cv2.getTrackbarPos(\"G\", \"colour\") \n",
    "    b = cv2.getTrackbarPos(\"B\", \"colour\")\n",
    "    \n",
    "    img[:] = [b,g,r]\n",
    "\n",
    "cv2.destroyAllWindows()"
   ]
  }
 ],
 "metadata": {
  "kernelspec": {
   "display_name": "Python 3 (ipykernel)",
   "language": "python",
   "name": "python3"
  },
  "language_info": {
   "codemirror_mode": {
    "name": "ipython",
    "version": 3
   },
   "file_extension": ".py",
   "mimetype": "text/x-python",
   "name": "python",
   "nbconvert_exporter": "python",
   "pygments_lexer": "ipython3",
   "version": "3.11.5"
  }
 },
 "nbformat": 4,
 "nbformat_minor": 5
}
