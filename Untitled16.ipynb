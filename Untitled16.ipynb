{
 "cells": [
  {
   "cell_type": "code",
   "execution_count": 1,
   "id": "a1b1d1be",
   "metadata": {},
   "outputs": [],
   "source": [
    "import cv2"
   ]
  },
  {
   "cell_type": "code",
   "execution_count": 2,
   "id": "51c92573",
   "metadata": {},
   "outputs": [],
   "source": [
    "#img = cv2.imread(\"images.jpeg\")\n",
    "#img = cv2.resize(img,(500,500))\n",
    "\n",
    "#cv2.imshow(\"SH\",img)\n",
    "#cv2.waitKey(0)\n",
    "#cv2.destroyAllWindows()"
   ]
  },
  {
   "cell_type": "code",
   "execution_count": 9,
   "id": "2f678899",
   "metadata": {},
   "outputs": [
    {
     "name": "stdout",
     "output_type": "stream",
     "text": [
      "(678, 452, 3)\n",
      "(170, 113, 3)\n",
      "(340, 226, 3)\n"
     ]
    }
   ],
   "source": [
    "img = cv2.imread(\"images.jpeg\")\n",
    "print(img.shape)\n",
    "\n",
    "new = cv2.pyrDown(img)\n",
    "#print(new.shape)\n",
    "\n",
    "new1 = cv2.pyrDown(new)\n",
    "print(new1.shape)\n",
    "\n",
    "#new2 = cv2.pyrDown(new1)\n",
    "#print(new2.shape)\n",
    "\n",
    "big_img = cv2.pyrUp(new1)\n",
    "print(big_img.shape)\n",
    "\n",
    "\n",
    "#cv2.imshow(\"SH\",img)\n",
    "#cv2.imshow(\"SHS\",new)\n",
    "cv2.imshow(\"SHS1\",new1)\n",
    "#cv2.imshow(\"SHS2\",new2)\n",
    "cv2.imshow(\"SHS12\",big_img)\n",
    "\n",
    "cv2.waitKey(0)\n",
    "cv2.destroyAllWindows()"
   ]
  }
 ],
 "metadata": {
  "kernelspec": {
   "display_name": "Python 3 (ipykernel)",
   "language": "python",
   "name": "python3"
  },
  "language_info": {
   "codemirror_mode": {
    "name": "ipython",
    "version": 3
   },
   "file_extension": ".py",
   "mimetype": "text/x-python",
   "name": "python",
   "nbconvert_exporter": "python",
   "pygments_lexer": "ipython3",
   "version": "3.11.5"
  }
 },
 "nbformat": 4,
 "nbformat_minor": 5
}
