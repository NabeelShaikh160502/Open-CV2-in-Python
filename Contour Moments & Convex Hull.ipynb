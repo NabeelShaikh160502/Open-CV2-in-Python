{
 "cells": [
  {
   "cell_type": "code",
   "execution_count": 1,
   "id": "11b19602",
   "metadata": {},
   "outputs": [],
   "source": [
    "import cv2"
   ]
  },
  {
   "cell_type": "code",
   "execution_count": 3,
   "id": "5101e64e",
   "metadata": {},
   "outputs": [
    {
     "name": "stdout",
     "output_type": "stream",
     "text": [
      "[72463.0, 2596.5, 1762.0, 2635.5, 2175.0, 2775.5, 2257.0, 1781.5]\n"
     ]
    }
   ],
   "source": [
    "img = cv2.imread(\"Shape.png\")\n",
    "\n",
    "gry = cv2.cvtColor(img,cv2.COLOR_BGR2GRAY)\n",
    "\n",
    "_,thr = cv2.threshold(gry,220,255,cv2.THRESH_BINARY)\n",
    "\n",
    "cnt,hir = cv2.findContours(thr,cv2.RETR_TREE,cv2.CHAIN_APPROX_SIMPLE)\n",
    "\n",
    "\n",
    "ar = []\n",
    "for c in cnt:\n",
    "    m = cv2.moments(c)\n",
    "    x = int(m[\"m10\"]/m[\"m00\"])\n",
    "    y=int(m[\"m01\"]/m[\"m00\"])\n",
    "    cv2.drawContours(img,cnt,-1,(0,0,255),4)\n",
    "    cv2.circle(img,(x,y),5,(255,0,0),-1)\n",
    "    a = cv2.contourArea(c)\n",
    "    ar.append(a)\n",
    "    ep = 0.1*cv2.arcLength(c,True)\n",
    "    d = cv2.approxPolyDP(c,ep,True)\n",
    "    h = cv2.convexHull(d)\n",
    "    x,y,w,h = cv2.boundingRect(h)\n",
    "    cv2.rectangle(img,(x,y),(x+w,y+h),(0,255,0),5)\n",
    "\n",
    "print(ar)\n",
    "cv2.imshow(\"thre\", thr)\n",
    "cv2.imshow(\"wscube\", img)\n",
    "cv2.waitKey(0)\n",
    "cv2.destroyAllWindows()"
   ]
  }
 ],
 "metadata": {
  "kernelspec": {
   "display_name": "Python 3 (ipykernel)",
   "language": "python",
   "name": "python3"
  },
  "language_info": {
   "codemirror_mode": {
    "name": "ipython",
    "version": 3
   },
   "file_extension": ".py",
   "mimetype": "text/x-python",
   "name": "python",
   "nbconvert_exporter": "python",
   "pygments_lexer": "ipython3",
   "version": "3.11.5"
  }
 },
 "nbformat": 4,
 "nbformat_minor": 5
}
