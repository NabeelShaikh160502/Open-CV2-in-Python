{
 "cells": [
  {
   "cell_type": "code",
   "execution_count": 1,
   "id": "6de0ee7d",
   "metadata": {},
   "outputs": [],
   "source": [
    "import cv2"
   ]
  },
  {
   "cell_type": "code",
   "execution_count": 6,
   "id": "7292b764",
   "metadata": {},
   "outputs": [],
   "source": [
    "img1 = cv2.imread(\"a25cf4520897c0cf7b915e03af34af40.jpg\")\n",
    "img2 = cv2.imread(\"2161766356_cf08edde55_b.jpg\")\n",
    "\n",
    "img1 = cv2.resize(img1,(600,500))\n",
    "img2 = cv2.resize(img2,(600,500))\n",
    "\n",
    "new_img = cv2.addWeighted(img1,1,img2,0.2,1)\n",
    "#new_img = cv2.subtract(img1,img2)\n",
    "\n",
    "cv2.imshow(\"wscube\",new_img)\n",
    "cv2.waitKey(0)\n",
    "cv2.destroyAllWindows()"
   ]
  }
 ],
 "metadata": {
  "kernelspec": {
   "display_name": "Python 3 (ipykernel)",
   "language": "python",
   "name": "python3"
  },
  "language_info": {
   "codemirror_mode": {
    "name": "ipython",
    "version": 3
   },
   "file_extension": ".py",
   "mimetype": "text/x-python",
   "name": "python",
   "nbconvert_exporter": "python",
   "pygments_lexer": "ipython3",
   "version": "3.11.5"
  }
 },
 "nbformat": 4,
 "nbformat_minor": 5
}
