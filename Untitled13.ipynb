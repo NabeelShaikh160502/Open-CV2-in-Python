{
 "cells": [
  {
   "cell_type": "code",
   "execution_count": 1,
   "id": "28f410ed",
   "metadata": {},
   "outputs": [],
   "source": [
    "import cv2\n",
    "import numpy as np"
   ]
  },
  {
   "cell_type": "code",
   "execution_count": 12,
   "id": "5e85b3f0",
   "metadata": {},
   "outputs": [
    {
     "name": "stdout",
     "output_type": "stream",
     "text": [
      "(300, 300, 3)\n"
     ]
    }
   ],
   "source": [
    "img = cv2.imread(\"ef6bccea028afe29f20346dba4f7b84f.jpg\")\n",
    "img = cv2.resize(img,(300,300))\n",
    "\n",
    "img1 = cv2.copyMakeBorder(img,20,20,20,20,cv2.BORDER_CONSTANT, None, value = 2)\n",
    "img1 = cv2.resize(img1,(300,300))\n",
    "\n",
    "img2 = cv2.copyMakeBorder(img,20,20,20,20,cv2.BORDER_DEFAULT, None, value = 2)\n",
    "img2 = cv2.resize(img2,(300,300))\n",
    "\n",
    "print(img1.shape)\n",
    "\n",
    "h = np.hstack((img,img1,img2))\n",
    "\n",
    "cv2.imshow(\"Nana Patekar\",h)\n",
    "cv2.waitKey(0)\n",
    "cv2.destroyAllWindows()"
   ]
  },
  {
   "cell_type": "code",
   "execution_count": 14,
   "id": "d34b8c37",
   "metadata": {},
   "outputs": [],
   "source": [
    "img = cv2.imread(\"ef6bccea028afe29f20346dba4f7b84f.jpg\")\n",
    "img = cv2.resize(img,(300,300))\n",
    "\n",
    "#img1 = cv2.copyMakeBorder(img,20,20,20,20,cv2.BORDER_CONSTANT, None, value = 2)\n",
    "#img1 = cv2.resize(img1,(300,300))\n",
    "\n",
    "img2 = cv2.copyMakeBorder(img,20,20,20,20,cv2.BORDER_ISOLATED)\n",
    "img2 = cv2.resize(img2,(300,300))\n",
    "\n",
    "\n",
    "cv2.imshow(\"Nana Patekar\",img2)\n",
    "cv2.waitKey(0)\n",
    "cv2.destroyAllWindows()"
   ]
  }
 ],
 "metadata": {
  "kernelspec": {
   "display_name": "Python 3 (ipykernel)",
   "language": "python",
   "name": "python3"
  },
  "language_info": {
   "codemirror_mode": {
    "name": "ipython",
    "version": 3
   },
   "file_extension": ".py",
   "mimetype": "text/x-python",
   "name": "python",
   "nbconvert_exporter": "python",
   "pygments_lexer": "ipython3",
   "version": "3.11.5"
  }
 },
 "nbformat": 4,
 "nbformat_minor": 5
}
