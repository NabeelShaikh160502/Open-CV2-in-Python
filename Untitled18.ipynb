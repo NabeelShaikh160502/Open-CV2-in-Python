{
 "cells": [
  {
   "cell_type": "code",
   "execution_count": 1,
   "id": "50c789fd",
   "metadata": {},
   "outputs": [],
   "source": [
    "import cv2"
   ]
  },
  {
   "cell_type": "code",
   "execution_count": 2,
   "id": "c63d806b",
   "metadata": {},
   "outputs": [],
   "source": [
    "org_v = cv2.VideoCapture(r\"C:\\Users\\Hp\\Desktop\\Maxgen Internship\\Open CV2 in Python\\WhatsApp Video 2024-12-18 at 15.01.23_73358f8b.mp4\")\n",
    "sub_m = cv2.createBackgroundSubtractorMOG2()\n",
    "while True:\n",
    "    r,frame = org_v.read()\n",
    "    if r == True:\n",
    "        frame = cv2.resize(frame,(700,600))\n",
    "        sub_v = sub_m.apply(frame)\n",
    "        cv2.imshow(\"Video1\",sub_v)\n",
    "        cv2.imshow(\"Video\",frame)\n",
    "        if cv2.waitKey(25) & 0xff == ord(\"p\"):\n",
    "            break\n",
    "    else:\n",
    "        break\n",
    "\n",
    "org_v.release()\n",
    "cv2.destroyAllWindows()"
   ]
  }
 ],
 "metadata": {
  "kernelspec": {
   "display_name": "Python 3 (ipykernel)",
   "language": "python",
   "name": "python3"
  },
  "language_info": {
   "codemirror_mode": {
    "name": "ipython",
    "version": 3
   },
   "file_extension": ".py",
   "mimetype": "text/x-python",
   "name": "python",
   "nbconvert_exporter": "python",
   "pygments_lexer": "ipython3",
   "version": "3.11.5"
  }
 },
 "nbformat": 4,
 "nbformat_minor": 5
}
