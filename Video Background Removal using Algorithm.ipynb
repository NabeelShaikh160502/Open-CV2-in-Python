{
 "cells": [
  {
   "cell_type": "code",
   "execution_count": 1,
   "id": "d2d66238",
   "metadata": {},
   "outputs": [],
   "source": [
    "import cv2"
   ]
  },
  {
   "cell_type": "code",
   "execution_count": 9,
   "id": "70281657",
   "metadata": {},
   "outputs": [],
   "source": [
    "cap = cv2.VideoCapture(\"mixkit-man-and-woman-jogging-together-on-the-street-40881-full-hd.mp4\")\n",
    "\n",
    "algo1 = cv2.createBackgroundSubtractorKNN(detectShadows = True)\n",
    "algo2 = cv2.createBackgroundSubtractorMOG2(detectShadows = True)\n",
    "\n",
    "while True:\n",
    "    r,f = cap.read()\n",
    "    if r == True:\n",
    "        f = cv2.resize(f,(500,400))\n",
    "        r1 = algo1.apply(f)\n",
    "        r2 = algo2.apply(f)\n",
    "        cv2.imshow(\"algo1\",r1)\n",
    "        cv2.imshow(\"algo2\",r2)\n",
    "        cv2.imshow(\"video\",f)\n",
    "        if cv2.waitKey(40) & 0xff == ord(\"p\"):\n",
    "            break\n",
    "    else:\n",
    "        break\n",
    "        \n",
    "cap.release()\n",
    "cv2.destroyAllWindows()"
   ]
  }
 ],
 "metadata": {
  "kernelspec": {
   "display_name": "Python 3 (ipykernel)",
   "language": "python",
   "name": "python3"
  },
  "language_info": {
   "codemirror_mode": {
    "name": "ipython",
    "version": 3
   },
   "file_extension": ".py",
   "mimetype": "text/x-python",
   "name": "python",
   "nbconvert_exporter": "python",
   "pygments_lexer": "ipython3",
   "version": "3.11.5"
  }
 },
 "nbformat": 4,
 "nbformat_minor": 5
}
