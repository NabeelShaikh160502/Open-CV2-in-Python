{
 "cells": [
  {
   "cell_type": "code",
   "execution_count": 1,
   "id": "aac0eeee",
   "metadata": {},
   "outputs": [],
   "source": [
    "import cv2\n",
    "import numpy as np"
   ]
  },
  {
   "cell_type": "code",
   "execution_count": 13,
   "id": "eb4df418",
   "metadata": {},
   "outputs": [],
   "source": [
    "cap = cv2.VideoCapture(\"Vehicle.mp4\")\n",
    "\n",
    "while True:\n",
    "    r,f = cap.read()\n",
    "    if r == True:\n",
    "        f = cv2.resize(f,(800,600))\n",
    "        gry = cv2.cvtColor(f,cv2.COLOR_BGR2GRAY) \n",
    "        car = cv2.CascadeClassifier(\"cars.xml\")\n",
    "        \n",
    "        cars = car.detectMultiScale(gry,1.2,3)\n",
    "        for (x,y,w,h) in cars:\n",
    "            cv2.rectangle(f,(x,y),(x+w,y+h),(0,0,255),3) \n",
    "        cv2.imshow(\"Vehicle\", f)\n",
    "        if cv2.waitKey(25) & 0xff == ord(\"q\"):\n",
    "            break\n",
    "    else:\n",
    "        break\n",
    "\n",
    "cap.release()\n",
    "cv2.destroyAllWindows()"
   ]
  },
  {
   "cell_type": "code",
   "execution_count": 20,
   "id": "cd2cdcb1",
   "metadata": {},
   "outputs": [],
   "source": [
    "img = cv2.imread(\"Car.png\")\n",
    "#img = cv2.resize(img,(700,600))\n",
    "gry = cv2.cvtColor(img,cv2.COLOR_BGR2GRAY)\n",
    "car = cv2.CascadeClassifier(\"cars.xml\")\n",
    "cars = car.detectMultiScale(gry,1.2,3)\n",
    "for (x,y,w,h) in cars:\n",
    "    cv2.rectangle(img,(x,y),(x+w,y+h),(0,0,255),3)\n",
    "\n",
    "cv2.imshow(\"Car\", img)\n",
    "cv2.waitKey(0)\n",
    "cv2.destroyAllWindows()"
   ]
  },
  {
   "cell_type": "code",
   "execution_count": 16,
   "id": "7ad8180f",
   "metadata": {},
   "outputs": [],
   "source": [
    "cap = cv2.VideoCapture(\"Vehicle1.mp4\")\n",
    "\n",
    "while True:\n",
    "    r,f = cap.read()\n",
    "    if r == True:\n",
    "        f = cv2.resize(f,(800,600))\n",
    "        gry = cv2.cvtColor(f,cv2.COLOR_BGR2GRAY) \n",
    "        car = cv2.CascadeClassifier(\"cars.xml\")\n",
    "        \n",
    "        cars = car.detectMultiScale(gry,1.2,3)\n",
    "        for (x,y,w,h) in cars:\n",
    "            cv2.rectangle(f,(x,y),(x+w,y+h),(0,0,255),3) \n",
    "        cv2.imshow(\"Vehicle1\", f)\n",
    "        if cv2.waitKey(25) & 0xff == ord(\"q\"):\n",
    "            break\n",
    "    else:\n",
    "        break\n",
    "\n",
    "cap.release()\n",
    "cv2.destroyAllWindows()"
   ]
  }
 ],
 "metadata": {
  "kernelspec": {
   "display_name": "Python 3 (ipykernel)",
   "language": "python",
   "name": "python3"
  },
  "language_info": {
   "codemirror_mode": {
    "name": "ipython",
    "version": 3
   },
   "file_extension": ".py",
   "mimetype": "text/x-python",
   "name": "python",
   "nbconvert_exporter": "python",
   "pygments_lexer": "ipython3",
   "version": "3.12.7"
  }
 },
 "nbformat": 4,
 "nbformat_minor": 5
}
