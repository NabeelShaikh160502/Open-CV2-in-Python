{
 "cells": [
  {
   "cell_type": "code",
   "execution_count": 1,
   "id": "669a821f",
   "metadata": {},
   "outputs": [],
   "source": [
    "import cv2\n",
    "import numpy as np"
   ]
  },
  {
   "cell_type": "code",
   "execution_count": 12,
   "id": "6d7e5c25",
   "metadata": {},
   "outputs": [],
   "source": [
    "img = cv2.imread(\"Coin.jpg\") \n",
    "img = cv2.resize(img, (600,400))\n",
    "\n",
    "_,th = cv2.threshold(img, 190, 255, cv2.THRESH_BINARY)\n",
    "\n",
    "cv2.imshow(\"threshold\", th) \n",
    "cv2.imshow(\"wscube\", img) \n",
    "cv2.waitKey(0) \n",
    "cv2.destroyAllWindows()"
   ]
  },
  {
   "cell_type": "code",
   "execution_count": 11,
   "id": "9219a846",
   "metadata": {},
   "outputs": [],
   "source": [
    "img = cv2.imread(\"Study.jpg\") \n",
    "img = cv2.resize(img, (600,400))\n",
    "img = cv2.cvtColor(img,cv2.COLOR_BGR2GRAY)\n",
    "\n",
    "#_,th = cv2.threshold(img, 180, 255, cv2.THRESH_BINARY)\n",
    "#_,th = cv2.threshold(img, 180, 255, cv2.THRESH_BINARY_INV)\n",
    "#_,th = cv2.threshold(img, 180, 255, cv2.THRESH_MASK)\n",
    "_,th = cv2.threshold(img, 180, 255, cv2.THRESH_TRIANGLE)\n",
    "\n",
    "cv2.imshow(\"threshold\", th) \n",
    "cv2.imshow(\"wscube\", img) \n",
    "cv2.waitKey(0) \n",
    "cv2.destroyAllWindows()"
   ]
  }
 ],
 "metadata": {
  "kernelspec": {
   "display_name": "Python 3 (ipykernel)",
   "language": "python",
   "name": "python3"
  },
  "language_info": {
   "codemirror_mode": {
    "name": "ipython",
    "version": 3
   },
   "file_extension": ".py",
   "mimetype": "text/x-python",
   "name": "python",
   "nbconvert_exporter": "python",
   "pygments_lexer": "ipython3",
   "version": "3.11.5"
  }
 },
 "nbformat": 4,
 "nbformat_minor": 5
}
