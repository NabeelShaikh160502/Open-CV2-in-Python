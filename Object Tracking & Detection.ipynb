{
 "cells": [
  {
   "cell_type": "code",
   "execution_count": 1,
   "id": "473f90aa",
   "metadata": {},
   "outputs": [],
   "source": [
    "import cv2\n",
    "import numpy as np"
   ]
  },
  {
   "cell_type": "code",
   "execution_count": 36,
   "id": "35dec403",
   "metadata": {},
   "outputs": [],
   "source": [
    "cap = cv2.VideoCapture(\"mixkit-man-and-woman-jogging-together-on-the-street-40881-full-hd.mp4\")\n",
    "r,f = cap.read()\n",
    "x,y,w,h = 400, 1, 400, 816 #roi\n",
    "t = (x,y,w,h) \n",
    "roi = f[y:y+h,x:x+w]\n",
    "hsv_roi = cv2.cvtColor(roi,cv2.COLOR_BGR2HSV)\n",
    "mask = cv2.inRange(hsv_roi,np.array((0.,60.,32.)),np.array((180.,255.,255.)))\n",
    "roi_hist = cv2.calcHist([hsv_roi],[0],mask,[180],[0,180])\n",
    "cv2.normalize(roi_hist,roi_hist,0,255,cv2.NORM_MINMAX)\n",
    "cv2.imshow(\"test\",roi)\n",
    "\n",
    "#tr = (cv2.TERM_CRITERIA_EPS | cv2.TERM_CRITERIA_COUNT, 10,1)\n",
    "\n",
    "while cap.isOpened():\n",
    "    r,f = cap.read()\n",
    "    if r == True:\n",
    "#         hsv_f = cv2.cvtColor(f,cv2.COLOR_BGR2HSV)\n",
    "#         d = cv2.calcBackProject([hsv_f],[0],roi_hist,[0,180],1)\n",
    "#         r,tp = cv2.meanShift(d,t,tr)\n",
    "#         x,y,w,h = tp\n",
    "#         final = cv2.rectangle(f,(x,y),(x+w,y+h),(0,0,255),4)\n",
    "#         cv2.imshow(\"Video\", final)\n",
    "        if cv2.waitKey(25) & 0xff == ord(\"q\"):\n",
    "            break\n",
    "    else:\n",
    "        break\n",
    "        \n",
    "cap.release()\n",
    "cv2.destroyAllWindows()"
   ]
  },
  {
   "cell_type": "code",
   "execution_count": 8,
   "id": "a3cc76da",
   "metadata": {},
   "outputs": [],
   "source": [
    "x,y = 1,1\n",
    "w = 379-1\n",
    "h = 817-1"
   ]
  },
  {
   "cell_type": "code",
   "execution_count": 9,
   "id": "b9d97bb0",
   "metadata": {},
   "outputs": [
    {
     "data": {
      "text/plain": [
       "(1, 1, 378, 816)"
      ]
     },
     "execution_count": 9,
     "metadata": {},
     "output_type": "execute_result"
    }
   ],
   "source": [
    "x,y,w,h"
   ]
  },
  {
   "cell_type": "code",
   "execution_count": 96,
   "id": "10227079",
   "metadata": {},
   "outputs": [],
   "source": [
    "cap = cv2.VideoCapture(\"mixkit-man-and-woman-jogging-together-on-the-street-40881-full-hd.mp4\")\n",
    "r,f = cap.read()\n",
    "x,y,w,h = 390, 1, 400, 730 #roi\n",
    "t = (x,y,w,h) \n",
    "roi = f[y:y+h,x:x+w]\n",
    "hsv_roi = cv2.cvtColor(roi,cv2.COLOR_BGR2HSV)\n",
    "mask = cv2.inRange(hsv_roi,np.array((0.,60.,32.)),np.array((180.,255.,255.)))\n",
    "roi_hist = cv2.calcHist([hsv_roi],[0],mask,[180],[0,180])\n",
    "cv2.normalize(roi_hist,roi_hist,0,255,cv2.NORM_MINMAX)\n",
    "#cv2.imshow(\"test\",roi)\n",
    "\n",
    "tr = (cv2.TERM_CRITERIA_EPS | cv2.TERM_CRITERIA_COUNT, 10,1)\n",
    "\n",
    "while cap.isOpened():\n",
    "    r,f = cap.read()\n",
    "    if r == True:\n",
    "        #f = cv2.resize(f,(500,400))\n",
    "        hsv_f = cv2.cvtColor(f,cv2.COLOR_BGR2HSV)\n",
    "        d = cv2.calcBackProject([hsv_f],[0],roi_hist,[0,180],1)\n",
    "        r,tp = cv2.CamShift(d,t,tr)\n",
    "        x,y,w,h = tp\n",
    "        final = cv2.rectangle(f,(x,y),(x+w,y+h),(0,0,255),4)\n",
    "        cv2.imshow(\"Video\", final)\n",
    "        if cv2.waitKey(25) & 0xff == ord(\"q\"):\n",
    "            break\n",
    "    else:\n",
    "        break\n",
    "        \n",
    "cap.release()\n",
    "cv2.destroyAllWindows()"
   ]
  }
 ],
 "metadata": {
  "kernelspec": {
   "display_name": "Python 3 (ipykernel)",
   "language": "python",
   "name": "python3"
  },
  "language_info": {
   "codemirror_mode": {
    "name": "ipython",
    "version": 3
   },
   "file_extension": ".py",
   "mimetype": "text/x-python",
   "name": "python",
   "nbconvert_exporter": "python",
   "pygments_lexer": "ipython3",
   "version": "3.11.5"
  }
 },
 "nbformat": 4,
 "nbformat_minor": 5
}
