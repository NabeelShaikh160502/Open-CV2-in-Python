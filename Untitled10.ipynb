{
 "cells": [
  {
   "cell_type": "code",
   "execution_count": 11,
   "id": "c4a8567f",
   "metadata": {},
   "outputs": [],
   "source": [
    "import cv2\n",
    "import numpy as np"
   ]
  },
  {
   "cell_type": "code",
   "execution_count": 3,
   "id": "6f399a11",
   "metadata": {},
   "outputs": [],
   "source": [
    "org_img = cv2.imread(\"2161766356_cf08edde55_b.jpg\")\n",
    "res_img = cv2.resize(org_img,(700,500))\n",
    "\n",
    "cv2.imshow(\"Nana Patekar_1\",res_img)\n",
    "cv2.imshow(\"Nana Patekar\",org_img)\n",
    "cv2.waitKey(0)\n",
    "cv2.destroyAllWindows()"
   ]
  },
  {
   "cell_type": "code",
   "execution_count": null,
   "id": "787be3da",
   "metadata": {},
   "outputs": [],
   "source": [
    "org_img = cv2.imread(\"2161766356_cf08edde55_b.jpg\")\n",
    "res_img = cv2.resize(org_img,(700,500))\n",
    "\n",
    "\n",
    "\n",
    "m = cv2.getRotationMatrix2D()\n"
   ]
  },
  {
   "cell_type": "code",
   "execution_count": 14,
   "id": "f3c42efc",
   "metadata": {},
   "outputs": [],
   "source": [
    "org_img = cv2.imread(\"2161766356_cf08edde55_b.jpg\")\n",
    "res_img = cv2.resize(org_img,(500,500))\n",
    "w,h = res_img.shape[0], res_img.shape[1]\n",
    "#w,h\n",
    "\n",
    "m = cv2.getRotationMatrix2D((w/2,h/2),90,1)\n",
    "#m\n",
    "\n",
    "new_img = cv2.warpAffine(res_img,m,(w,h))\n",
    "new_img\n",
    "\n",
    "h = np.hstack((res_img,new_img))\n",
    "\n",
    "cv2.imshow(\"Nana Patekar\",h)\n",
    "cv2.waitKey(0)\n",
    "cv2.destroyAllWindows()"
   ]
  }
 ],
 "metadata": {
  "kernelspec": {
   "display_name": "Python 3 (ipykernel)",
   "language": "python",
   "name": "python3"
  },
  "language_info": {
   "codemirror_mode": {
    "name": "ipython",
    "version": 3
   },
   "file_extension": ".py",
   "mimetype": "text/x-python",
   "name": "python",
   "nbconvert_exporter": "python",
   "pygments_lexer": "ipython3",
   "version": "3.11.5"
  }
 },
 "nbformat": 4,
 "nbformat_minor": 5
}
