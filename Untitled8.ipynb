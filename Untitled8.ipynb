{
 "cells": [
  {
   "cell_type": "code",
   "execution_count": 2,
   "id": "f2212d2f",
   "metadata": {},
   "outputs": [],
   "source": [
    "import cv2\n",
    "import numpy as np"
   ]
  },
  {
   "cell_type": "code",
   "execution_count": 20,
   "id": "5d0d62d2",
   "metadata": {},
   "outputs": [],
   "source": [
    "img1 = cv2.imread(\"four-black-circles-located-far-260nw-1937853325 (1).webp\")\n",
    "img2 = cv2.imread(\"1_G8gUuD3EllnfsCMdP_QMnw.png\")\n",
    "\n",
    "img1 = cv2.resize(img1,(300,300))\n",
    "img2 = cv2.resize(img2,(300,300))\n",
    "\n",
    "#new = cv2.bitwise_and(img1,img2)\n",
    "#new = cv2.bitwise_or(img1,img2)\n",
    "#new = cv2.bitwise_xor(img1,img2)\n",
    "new = cv2.bitwise_not(img1)\n",
    "new1 = cv2.bitwise_not(img2)\n",
    "\n",
    "h = np.hstack((img1,new))\n",
    "h1 = np.hstack((img2,new1))\n",
    "\n",
    "v = np.vstack((h,h1))\n",
    "\n",
    "cv2.imshow(\"wscube\",v)\n",
    "cv2.waitKey(0)\n",
    "cv2.destroyAllWindows()"
   ]
  },
  {
   "cell_type": "code",
   "execution_count": 21,
   "id": "1caf0d01",
   "metadata": {},
   "outputs": [],
   "source": [
    "img1 = cv2.imread(\"images (1).jpeg\")\n",
    "\n",
    "img1 = cv2.resize(img1,(300,300))\n",
    "\n",
    "new = cv2.bitwise_not(img1)\n",
    "\n",
    "cv2.imshow(\"wscube\",new)\n",
    "cv2.waitKey(0)\n",
    "cv2.destroyAllWindows()"
   ]
  },
  {
   "cell_type": "code",
   "execution_count": 22,
   "id": "03fe9535",
   "metadata": {},
   "outputs": [],
   "source": [
    "img1 = cv2.imread(\"images (1).jpeg\")\n",
    "img2 = cv2.imread(\"2161766356_cf08edde55_b.jpg\")\n",
    "\n",
    "img1 = cv2.resize(img1,(300,300))\n",
    "img2 = cv2.resize(img2,(300,300))\n",
    "\n",
    "new = cv2.bitwise_and(img1,img2)\n",
    "#new = cv2.bitwise_or(img1,img2)\n",
    "#new = cv2.bitwise_xor(img1,img2)\n",
    "#new = cv2.bitwise_not(img1)\n",
    "#new1 = cv2.bitwise_not(img2)\n",
    "\n",
    "h = np.hstack((img1,img2,new))\n",
    "#h1 = np.hstack((img2,new1))\n",
    "\n",
    "#v = np.vstack((h,h1))\n",
    "\n",
    "cv2.imshow(\"wscube\",h)\n",
    "cv2.waitKey(0)\n",
    "cv2.destroyAllWindows()"
   ]
  }
 ],
 "metadata": {
  "kernelspec": {
   "display_name": "Python 3 (ipykernel)",
   "language": "python",
   "name": "python3"
  },
  "language_info": {
   "codemirror_mode": {
    "name": "ipython",
    "version": 3
   },
   "file_extension": ".py",
   "mimetype": "text/x-python",
   "name": "python",
   "nbconvert_exporter": "python",
   "pygments_lexer": "ipython3",
   "version": "3.11.5"
  }
 },
 "nbformat": 4,
 "nbformat_minor": 5
}
