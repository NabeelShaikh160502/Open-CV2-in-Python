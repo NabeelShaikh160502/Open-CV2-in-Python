{
 "cells": [
  {
   "cell_type": "code",
   "execution_count": 2,
   "id": "98e97c97",
   "metadata": {},
   "outputs": [],
   "source": [
    "import cv2"
   ]
  },
  {
   "cell_type": "code",
   "execution_count": 10,
   "id": "c867569c",
   "metadata": {},
   "outputs": [],
   "source": [
    "# Speed"
   ]
  },
  {
   "cell_type": "code",
   "execution_count": 3,
   "id": "213b4b61",
   "metadata": {},
   "outputs": [],
   "source": [
    "cap = cv2.VideoCapture(r\"C:\\Users\\Hp\\Desktop\\Maxgen Internship\\Open CV2 in Python\\WhatsApp Video 2024-12-18 at 15.01.23_73358f8b.mp4\")\n",
    "\n",
    "while cap.isOpened():\n",
    "    rat,frame = cap.read()\n",
    "    frame = cv2.resize(frame,(700,600))\n",
    "    if rat == True:\n",
    "        cv2.imshow(\"Devil\",frame)\n",
    "        if cv2.waitKey(40) & 0xff == ord(\"p\"):\n",
    "            break\n",
    "    else:\n",
    "        break\n",
    "\n",
    "cap.release()\n",
    "cv2.destroyAllWindows()"
   ]
  },
  {
   "cell_type": "code",
   "execution_count": 9,
   "id": "6b84a7ea",
   "metadata": {},
   "outputs": [],
   "source": [
    "# Slow"
   ]
  },
  {
   "cell_type": "code",
   "execution_count": 8,
   "id": "94c49c67",
   "metadata": {},
   "outputs": [],
   "source": [
    "cap = cv2.VideoCapture(r\"C:\\Users\\Hp\\Desktop\\Maxgen Internship\\Open CV2 in Python\\WhatsApp Video 2024-12-18 at 15.01.23_73358f8b.mp4\")\n",
    "\n",
    "while cap.isOpened():\n",
    "    rat,frame = cap.read()\n",
    "    frame = cv2.resize(frame,(700,600))\n",
    "    if rat == True:\n",
    "        cv2.imshow(\"Devil\",frame)\n",
    "        if cv2.waitKey(5) & 0xff == ord(\"p\"):\n",
    "            break\n",
    "    else:\n",
    "        break\n",
    "\n",
    "cap.release()\n",
    "cv2.destroyAllWindows()"
   ]
  }
 ],
 "metadata": {
  "kernelspec": {
   "display_name": "Python 3 (ipykernel)",
   "language": "python",
   "name": "python3"
  },
  "language_info": {
   "codemirror_mode": {
    "name": "ipython",
    "version": 3
   },
   "file_extension": ".py",
   "mimetype": "text/x-python",
   "name": "python",
   "nbconvert_exporter": "python",
   "pygments_lexer": "ipython3",
   "version": "3.11.5"
  }
 },
 "nbformat": 4,
 "nbformat_minor": 5
}
