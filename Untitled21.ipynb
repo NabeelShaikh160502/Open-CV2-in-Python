{
 "cells": [
  {
   "cell_type": "code",
   "execution_count": 1,
   "id": "472fbfb3",
   "metadata": {},
   "outputs": [],
   "source": [
    "import cv2"
   ]
  },
  {
   "cell_type": "code",
   "execution_count": 2,
   "id": "327efdbd",
   "metadata": {},
   "outputs": [],
   "source": [
    "img = cv2.imread(\"images.jpeg\") \n",
    "img = cv2.resize(img, (500,500))\n",
    "\n",
    "#img = cv2.flip(img, 1) #y axis \n",
    "#img cv2.flip(img,e) x axis \n",
    "#img = cv2.flip(img,-1) # x,yaxis\n",
    "\n",
    "#img = cv2.rotate(img,cv2. ROTATE_90_COUNTERCLOCKWISE)\n",
    "\n",
    "#img = cv2.transpose(img)\n",
    "\n",
    "cv2.imshow(\"wscube\", img) \n",
    "cv2.waitKey(0) \n",
    "cv2.destroyAllWindows()"
   ]
  }
 ],
 "metadata": {
  "kernelspec": {
   "display_name": "Python 3 (ipykernel)",
   "language": "python",
   "name": "python3"
  },
  "language_info": {
   "codemirror_mode": {
    "name": "ipython",
    "version": 3
   },
   "file_extension": ".py",
   "mimetype": "text/x-python",
   "name": "python",
   "nbconvert_exporter": "python",
   "pygments_lexer": "ipython3",
   "version": "3.11.5"
  }
 },
 "nbformat": 4,
 "nbformat_minor": 5
}
