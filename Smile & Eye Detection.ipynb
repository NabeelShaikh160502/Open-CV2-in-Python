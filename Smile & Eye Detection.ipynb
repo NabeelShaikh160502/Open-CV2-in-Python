{
 "cells": [
  {
   "cell_type": "code",
   "execution_count": 1,
   "id": "0c4fbc60",
   "metadata": {},
   "outputs": [],
   "source": [
    "import cv2"
   ]
  },
  {
   "cell_type": "code",
   "execution_count": 10,
   "id": "3a812323",
   "metadata": {},
   "outputs": [],
   "source": [
    "img = cv2.imread(\"images.jpeg\")\n",
    "gry = cv2.cvtColor(img,cv2.COLOR_BGR2GRAY)\n",
    "\n",
    "sm = cv2.CascadeClassifier(r\"C:\\Users\\Hp\\anaconda3\\Lib\\site-packages\\cv2\\data\\haarcascade_smile.xml\")\n",
    "fc = cv2.CascadeClassifier(r\"C:\\Users\\Hp\\anaconda3\\Lib\\site-packages\\cv2\\data\\haarcascade_frontalface_default.xml\")\n",
    "\n",
    "f = fc.detectMultiScale(gry,1.3,3)\n",
    "\n",
    "for x,y,w,h in f:\n",
    "    roi_gry = gry[y:y+h,x:x+w]\n",
    "    roi_img = img[y:y+h,x:x+w]\n",
    "    \n",
    "    s = sm.detectMultiScale(roi_img,1.3,9)\n",
    "    \n",
    "    for xs,ys, ws,hs in s:\n",
    "        cv2.rectangle(roi_img,(xs,ys),(xs+ws,ys+hs),(0,255,0),2)\n",
    "\n",
    "cv2.imshow(\"Image\", img)\n",
    "cv2.waitKey(0)\n",
    "cv2.destroyAllWindows()"
   ]
  },
  {
   "cell_type": "code",
   "execution_count": 22,
   "id": "3db2b380",
   "metadata": {},
   "outputs": [],
   "source": [
    "img = cv2.imread(\"images.jpeg\")\n",
    "gry = cv2.cvtColor(img,cv2.COLOR_BGR2GRAY)\n",
    "\n",
    "sm = cv2.CascadeClassifier(r\"C:\\Users\\Hp\\anaconda3\\Lib\\site-packages\\cv2\\data\\haarcascade_eye.xml\")\n",
    "fc = cv2.CascadeClassifier(r\"C:\\Users\\Hp\\anaconda3\\Lib\\site-packages\\cv2\\data\\haarcascade_frontalface_default.xml\")\n",
    "\n",
    "f = fc.detectMultiScale(gry,1.3,3)\n",
    "\n",
    "for x,y,w,h in f:\n",
    "    roi_gry = gry[y:y+h,x:x+w]\n",
    "    roi_img = img[y:y+h,x:x+w]\n",
    "    \n",
    "    s = sm.detectMultiScale(roi_img,1.5,9)\n",
    "    \n",
    "    for xs,ys, ws,hs in s:\n",
    "        cv2.rectangle(roi_img,(xs,ys),(xs+ws,ys+hs),(0,255,0),2)\n",
    "\n",
    "cv2.imshow(\"Image\", img)\n",
    "cv2.waitKey(0)\n",
    "cv2.destroyAllWindows()"
   ]
  }
 ],
 "metadata": {
  "kernelspec": {
   "display_name": "Python 3 (ipykernel)",
   "language": "python",
   "name": "python3"
  },
  "language_info": {
   "codemirror_mode": {
    "name": "ipython",
    "version": 3
   },
   "file_extension": ".py",
   "mimetype": "text/x-python",
   "name": "python",
   "nbconvert_exporter": "python",
   "pygments_lexer": "ipython3",
   "version": "3.11.5"
  }
 },
 "nbformat": 4,
 "nbformat_minor": 5
}
