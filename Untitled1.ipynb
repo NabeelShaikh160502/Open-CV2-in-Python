{
 "cells": [
  {
   "cell_type": "code",
   "execution_count": 1,
   "id": "890d083e",
   "metadata": {},
   "outputs": [],
   "source": [
    "import cv2\n",
    "import numpy as np\n",
    "import os"
   ]
  },
  {
   "cell_type": "code",
   "execution_count": 2,
   "id": "f4fff8aa",
   "metadata": {},
   "outputs": [],
   "source": [
    "img = cv2.imread(r\"C:\\Users\\Hp\\Desktop\\Maxgen Internship\\Open CV2 in Python\\images.jpeg\")\n",
    "re_img = cv2.resize(img,(400,500))\n",
    "cv2.imshow(\"wscube\",re_img)\n",
    "cv2.waitKey(0)\n",
    "cv2.destroyAllWindows()"
   ]
  },
  {
   "cell_type": "code",
   "execution_count": 3,
   "id": "9fb3ebc5",
   "metadata": {},
   "outputs": [
    {
     "data": {
      "text/plain": [
       "array([[1, 2, 3, 1, 2, 3],\n",
       "       [1, 2, 3, 1, 2, 3]])"
      ]
     },
     "execution_count": 3,
     "metadata": {},
     "output_type": "execute_result"
    }
   ],
   "source": [
    "v = np.array([[1,2,3,1,2,3],[1,2,3,1,2,3]])\n",
    "v"
   ]
  },
  {
   "cell_type": "code",
   "execution_count": 4,
   "id": "b00bfd3c",
   "metadata": {},
   "outputs": [
    {
     "data": {
      "text/plain": [
       "array([[1, 2, 3, 1, 2, 3, 1, 2, 3, 1, 2, 3]])"
      ]
     },
     "execution_count": 4,
     "metadata": {},
     "output_type": "execute_result"
    }
   ],
   "source": [
    "v = np.array([[1,2,3,1,2,3]])\n",
    "np.hstack((v,v))"
   ]
  },
  {
   "cell_type": "code",
   "execution_count": 5,
   "id": "51e34d5e",
   "metadata": {},
   "outputs": [
    {
     "name": "stdout",
     "output_type": "stream",
     "text": [
      "[[[88 88 88]\n",
      "  [88 88 88]\n",
      "  [88 88 88]\n",
      "  ...\n",
      "  [88 86 86]\n",
      "  [88 86 86]\n",
      "  [88 86 86]]\n",
      "\n",
      " [[88 88 88]\n",
      "  [88 88 88]\n",
      "  [88 88 88]\n",
      "  ...\n",
      "  [88 86 86]\n",
      "  [88 86 86]\n",
      "  [88 86 86]]\n",
      "\n",
      " [[88 88 88]\n",
      "  [88 88 88]\n",
      "  [88 88 88]\n",
      "  ...\n",
      "  [88 86 86]\n",
      "  [88 86 86]\n",
      "  [88 86 86]]\n",
      "\n",
      " ...\n",
      "\n",
      " [[ 0  0  0]\n",
      "  [ 0  0  0]\n",
      "  [ 1  1  1]\n",
      "  ...\n",
      "  [ 7  2  1]\n",
      "  [ 7  2  1]\n",
      "  [ 7  2  1]]\n",
      "\n",
      " [[ 0  0  0]\n",
      "  [ 0  0  0]\n",
      "  [ 1  1  1]\n",
      "  ...\n",
      "  [ 7  2  1]\n",
      "  [ 7  2  1]\n",
      "  [ 7  2  1]]\n",
      "\n",
      " [[ 0  0  0]\n",
      "  [ 0  0  0]\n",
      "  [ 1  1  1]\n",
      "  ...\n",
      "  [ 7  2  1]\n",
      "  [ 7  2  1]\n",
      "  [ 7  2  1]]]\n"
     ]
    }
   ],
   "source": [
    "img = cv2.imread(r\"C:\\Users\\Hp\\Desktop\\Maxgen Internship\\Open CV2 in Python\\images.jpeg\")\n",
    "print(img) #RGB"
   ]
  },
  {
   "cell_type": "code",
   "execution_count": 6,
   "id": "f11dc1d7",
   "metadata": {},
   "outputs": [],
   "source": [
    "img = cv2.imread(r\"C:\\Users\\Hp\\Desktop\\Maxgen Internship\\Open CV2 in Python\\ef6bccea028afe29f20346dba4f7b84f.jpg\")\n",
    "re_img = cv2.resize(img,(300,300))\n",
    "h = np.hstack((re_img, re_img, re_img))\n",
    "v = np.vstack((h, h))\n",
    "#cv2.imshow(\"wscube\",h)\n",
    "cv2.imshow(\"wscube\",v)\n",
    "cv2.waitKey(0)\n",
    "cv2.destroyAllWindows()"
   ]
  },
  {
   "cell_type": "code",
   "execution_count": 7,
   "id": "079882a5",
   "metadata": {},
   "outputs": [
    {
     "data": {
      "text/plain": [
       "['.ipynb_checkpoints',\n",
       " '0_PoE26AmTTazJEK0m.jpg',\n",
       " '2161766356_cf08edde55_b.jpg',\n",
       " 'a25cf4520897c0cf7b915e03af34af40.jpg',\n",
       " 'ef6bccea028afe29f20346dba4f7b84f.jpg',\n",
       " 'images (1).jpeg',\n",
       " 'images.jpeg',\n",
       " 'Untitled.ipynb',\n",
       " 'Untitled1.ipynb']"
      ]
     },
     "execution_count": 7,
     "metadata": {},
     "output_type": "execute_result"
    }
   ],
   "source": [
    "list_name = os.listdir(r\"C:\\Users\\Hp\\Desktop\\Maxgen Internship\\Open CV2 in Python\")\n",
    "list_name"
   ]
  },
  {
   "cell_type": "code",
   "execution_count": 21,
   "id": "24283641",
   "metadata": {},
   "outputs": [],
   "source": [
    "list_name = os.listdir(r\"C:\\Users\\Hp\\Desktop\\Maxgen Internship\\Open CV2 in Python\\New folder\")\n",
    "for name in list_name:\n",
    "    path = \"C:\\\\Users\\\\Hp\\\\Desktop\\\\Maxgen Internship\\\\Open CV2 in Python\\\\New folder\"\n",
    "    img_name = path + \"\\\\\" + name\n",
    "    img = cv2.imread(img_name)\n",
    "    img = cv2.resize(img, (700, 600))\n",
    "    cv2.imshow(\"wscube\",img)\n",
    "    cv2.waitKey(0)\n",
    "cv2.destroyAllWindows()"
   ]
  },
  {
   "cell_type": "code",
   "execution_count": null,
   "id": "684d4a8e",
   "metadata": {},
   "outputs": [],
   "source": []
  },
  {
   "cell_type": "code",
   "execution_count": null,
   "id": "e8fcba1c",
   "metadata": {},
   "outputs": [],
   "source": []
  }
 ],
 "metadata": {
  "kernelspec": {
   "display_name": "Python 3 (ipykernel)",
   "language": "python",
   "name": "python3"
  },
  "language_info": {
   "codemirror_mode": {
    "name": "ipython",
    "version": 3
   },
   "file_extension": ".py",
   "mimetype": "text/x-python",
   "name": "python",
   "nbconvert_exporter": "python",
   "pygments_lexer": "ipython3",
   "version": "3.11.5"
  }
 },
 "nbformat": 4,
 "nbformat_minor": 5
}
