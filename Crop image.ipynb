{
 "cells": [
  {
   "cell_type": "code",
   "execution_count": 1,
   "id": "5340cecc",
   "metadata": {},
   "outputs": [],
   "source": [
    "import cv2"
   ]
  },
  {
   "cell_type": "code",
   "execution_count": 24,
   "id": "8eae01c5",
   "metadata": {},
   "outputs": [
    {
     "name": "stdout",
     "output_type": "stream",
     "text": [
      "(500, 500, 3)\n"
     ]
    }
   ],
   "source": [
    "img = cv2.imread(\"images.jpeg\")\n",
    "img = cv2.resize(img,(500,500))\n",
    "print(img.shape) \n",
    "\n",
    "#img[y1:y2, x1:x2]\n",
    "\n",
    "crop = img[20:300,110:400]\n",
    "\n",
    "cv2.imshow(\"crop\", crop) \n",
    "cv2.imshow(\"wscube\", img) \n",
    "cv2.waitKey(0) \n",
    "cv2.destroyAllWindows()"
   ]
  }
 ],
 "metadata": {
  "kernelspec": {
   "display_name": "Python 3 (ipykernel)",
   "language": "python",
   "name": "python3"
  },
  "language_info": {
   "codemirror_mode": {
    "name": "ipython",
    "version": 3
   },
   "file_extension": ".py",
   "mimetype": "text/x-python",
   "name": "python",
   "nbconvert_exporter": "python",
   "pygments_lexer": "ipython3",
   "version": "3.11.5"
  }
 },
 "nbformat": 4,
 "nbformat_minor": 5
}
